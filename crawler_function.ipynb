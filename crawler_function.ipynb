{
 "cells": [
  {
   "cell_type": "markdown",
   "id": "925fe286",
   "metadata": {},
   "source": [
    "# crawler function"
   ]
  },
  {
   "cell_type": "code",
   "execution_count": 1,
   "id": "2ddbf65d",
   "metadata": {
    "ExecuteTime": {
     "end_time": "2021-05-28T12:55:10.925037Z",
     "start_time": "2021-05-28T12:55:09.995986Z"
    }
   },
   "outputs": [],
   "source": [
    "#coding:gbk\n",
    "import tushare as ts\n",
    "import pandas as pd\n",
    "import requests\n",
    "import re\n",
    "import time\n",
    "import xlrd\n",
    "import xlwt\n",
    "from xlutils.copy import copy\n",
    "from bs4 import BeautifulSoup\n",
    "from selenium import webdriver\n",
    "from urllib.request import urlopen\n",
    "chrome_options = Options()  # 实例化Option对象\n",
    "chrome_options.add_argument('--headless')  # 把Chrome浏览器设置为静默模式\n",
    "pd.set_option('display.unicode.ambiguous_as_wide', True)\n",
    "pd.set_option('display.unicode.east_asian_width', True)\n",
    "#用来修改dataframe格式"
   ]
  },
  {
   "cell_type": "markdown",
   "id": "bb6107fc",
   "metadata": {},
   "source": [
    "下面进行get_detailed_info的测试"
   ]
  },
  {
   "cell_type": "code",
   "execution_count": 18,
   "id": "50a8d3b6",
   "metadata": {
    "ExecuteTime": {
     "end_time": "2021-05-28T13:10:44.031393Z",
     "start_time": "2021-05-28T13:10:44.012916Z"
    }
   },
   "outputs": [],
   "source": [
    "def get_detailed_info(aim_url, aim_name):\n",
    "    #输入url和名字，输出一个DF\n",
    "    institutes = []\n",
    "    amounts = []\n",
    "    #每个龙虎榜股票的url\n",
    "    driver = webdriver.Chrome(options=chrome_options)\n",
    "    driver.get(aim_url)\n",
    "    time.sleep(3)\n",
    "    html = driver.page_source\n",
    "    driver.close()\n",
    "    soup = BeautifulSoup(html, features='lxml')\n",
    "    #解析出soup\n",
    "\n",
    "    try:\n",
    "        aim_div = soup.find('div', {'class': 'content main-content'})\n",
    "        rows_for_institutes = aim_div.find_all('div', class_='sc-name')\n",
    "        print(rows_for_institutes)\n",
    "    except:\n",
    "        print(\"解析网页出现错误，股票名：\", aim_name)\n",
    "    else:\n",
    "        if len(rows_for_institutes) < 10:\n",
    "            print(\"个股龙虎数据获取量为%d个，不足10个\" % len(rows_for_institutes))\n",
    "        for row in rows_for_institutes:\n",
    "            institute = row.find_all('a')\n",
    "            print(\"——————————————————\")\n",
    "            print(type(institute))\n",
    "            print(institute[0])\n",
    "            print(institute)\n",
    "            print(\"——————————————————\")\n",
    "            institutes.append(institute[0].get_text())\n",
    "#将买入和卖出的各五个营业部一共十个，放在institutes列表中\n",
    "        try:\n",
    "            trs = aim_div.find_all('tr')\n",
    "        except:\n",
    "            print(\"解析表格出现错误，股票名：\", aim_name)\n",
    "        else:\n",
    "            for tr in trs[2:7]:\n",
    "                tds = tr.find_all('td')\n",
    "                amounts.append(tds[2].get_text())\n",
    "            for tr in trs[9:14]:\n",
    "                tds = tr.find_all('td')\n",
    "                amounts.append(tds[4].get_text())\n",
    "#至此，买卖金额也放在一个列表中，共计10个，正好与营业部匹配\n",
    "    mid = []\n",
    "    for ist in institutes[:]:\n",
    "        ist = ist.replace(\"股份有限公司\", \"\")\n",
    "        ist = ist.replace(\"有限责任公司\", \"\")\n",
    "        ist = ist.replace(\"国泰君安证券\", \"国泰君安\")\n",
    "        ist = ist.replace(\"有限公司\", \"\")\n",
    "        ist = ist.replace(\"证券营业部\", \"\")\n",
    "        mid.append(ist)\n",
    "    test_dict = {\n",
    "        \"股票名称\": [aim_name] * 10,\n",
    "        '营业部': mid,\n",
    "        \"买/卖\": ['买', '买', '买', '买', '买', '卖', '卖', '卖', '卖', '卖'],\n",
    "        \"榜位\": [1, 2, 3, 4, 5, 1, 2, 3, 4, 5],\n",
    "        '金额': amounts\n",
    "    }\n",
    "    print(amounts, mid)\n",
    "    df = pd.DataFrame(test_dict)\n",
    "    time.sleep(2)\n",
    "    return df\n",
    "\n",
    "\n",
    "#以下筛选含有万和的股票"
   ]
  },
  {
   "cell_type": "raw",
   "id": "273f55c1",
   "metadata": {
    "ExecuteTime": {
     "end_time": "2021-05-28T02:23:51.502197Z",
     "start_time": "2021-05-28T02:23:51.485122Z"
    }
   },
   "source": [
    "def get_detailed_info(aim_url, aim_name):\n",
    "    #输入url和名字，输出一个DF\n",
    "    institutes = []\n",
    "    amounts = []\n",
    "    #每个龙虎榜股票的url\n",
    "    html = urlopen(aim_url).read().decode('utf-8')\n",
    "    soup = BeautifulSoup(html, features='lxml')\n",
    "    #解析出soup\n",
    "\n",
    "    try:\n",
    "        aim_div = soup.find('div', 'class': 'content main-content'})\n",
    "        rows_for_institutes = aim_div.find_all('div', class_= 'sc-name')\n",
    "    except:\n",
    "        print(\"解析网页出现错误，股票名：\", aim_name)\n",
    "    else:\n",
    "        if len(rows_for_institutes) < 10:\n",
    "            print(\"个股龙虎数据获取量为%d个，不足10个\" % len(rows_for_institutes))\n",
    "        for row in rows_for_institutes:\n",
    "            institute = row.find_all('a')\n",
    "            institutes.append(institute[1].get_text())\n",
    "#将买入和卖出的各五个营业部一共十个，放在institutes列表中\n",
    "        try:\n",
    "            trs = aim_div.find_all('tr')\n",
    "        except:\n",
    "            print(\"解析表格出现错误，股票名：\", aim_name)\n",
    "        else:\n",
    "            for tr in trs[2:7]:\n",
    "                tds = tr.find_all('td')\n",
    "                amounts.append(tds[2].get_text())\n",
    "            for tr in trs[9:14]:\n",
    "                tds = tr.find_all('td')\n",
    "                amounts.append(tds[4].get_text())\n",
    "#至此，买卖金额也放在一个列表中，共计10个，正好与营业部匹配\n",
    "    mid = []\n",
    "    for ist in institutes[:]:\n",
    "        ist = ist.replace(\"股份有限公司\", \"\")\n",
    "        ist = ist.replace(\"有限责任公司\", \"\")\n",
    "        ist = ist.replace(\"国泰君安证券\", \"国泰君安\")\n",
    "        ist = ist.replace(\"有限公司\", \"\")\n",
    "        ist = ist.replace(\"证券营业部\", \"\")\n",
    "        mid.append(ist)\n",
    "    test_dict = {\n",
    "        \"股票名称\": [aim_name] * 10,\n",
    "        '营业部': mid,\n",
    "        \"买/卖\": ['买', '买', '买', '买', '买', '卖', '卖', '卖', '卖', '卖'],\n",
    "        \"榜位\": [1, 2, 3, 4, 5, 1, 2, 3, 4, 5],\n",
    "        '金额': amounts\n",
    "    }\n",
    "    print(amounts,mid)\n",
    "    df = pd.DataFrame(test_dict)\n",
    "    time.sleep(2)\n",
    "    return df\n",
    "\n",
    "\n",
    "#以下筛选含有万和的股票"
   ]
  },
  {
   "cell_type": "code",
   "execution_count": 3,
   "id": "6f96bcd6",
   "metadata": {
    "ExecuteTime": {
     "end_time": "2021-05-27T14:47:43.376570Z",
     "start_time": "2021-05-27T14:47:43.362678Z"
    }
   },
   "outputs": [],
   "source": [
    "def get_huaxin(data):\n",
    "    for idx, row in enumerate(data['营业部']):\n",
    "        if row.find(\"万和\") < 0:\n",
    "            data.drop([idx], inplace=True)\n",
    "        else:\n",
    "            pass\n",
    "            data.loc[idx, '营业部'] = row.replace(\"万和证券\", \"\")\n",
    "    total = data.shape[0]\n",
    "    buy = 0\n",
    "    sell = 0\n",
    "    data = data.reset_index()\n",
    "    for i in range(total):\n",
    "        if data.loc[i, '榜位'] == 1 and data.loc[i, '买/卖'] == '买':\n",
    "            buy += 1\n",
    "        if data.loc[i, '榜位'] == 1 and data.loc[i, '买/卖'] == '卖':\n",
    "            sell += 1\n",
    "\n",
    "    other = total - buy - sell\n",
    "    return data, total, buy, sell, other"
   ]
  },
  {
   "cell_type": "code",
   "execution_count": 4,
   "id": "54fdd9fa",
   "metadata": {
    "ExecuteTime": {
     "end_time": "2021-05-27T14:47:43.391499Z",
     "start_time": "2021-05-27T14:47:43.379408Z"
    }
   },
   "outputs": [],
   "source": [
    "def get_hot_money(data, hot_money_name):\n",
    "\n",
    "    hm_df = pd.DataFrame(columns=['股票名称', '营业部', '买/卖', '榜位', '金额'])\n",
    "    for idx, row in enumerate(data['营业部']):\n",
    "        if row in hot_money_name:\n",
    "            hm_df = hm_df.append(data[idx:idx + 1])\n",
    "    hm_df = hm_df.reset_index()\n",
    "    total = hm_df.shape[0]\n",
    "    buy = 0\n",
    "    sell = 0\n",
    "    for i in range(total):\n",
    "        if hm_df.loc[i, '榜位'] == 1 and hm_df.loc[i, '买/卖'] == '买':\n",
    "            buy += 1\n",
    "        if hm_df.loc[i, '榜位'] == 1 and hm_df.loc[i, '买/卖'] == '卖':\n",
    "            sell += 1\n",
    "    other = total - buy - sell\n",
    "    return hm_df, total, buy, sell, other"
   ]
  },
  {
   "cell_type": "code",
   "execution_count": 5,
   "id": "7456e183",
   "metadata": {
    "ExecuteTime": {
     "end_time": "2021-05-27T14:47:43.406796Z",
     "start_time": "2021-05-27T14:47:43.393280Z"
    }
   },
   "outputs": [],
   "source": [
    "def set_style(name, height, bold=False, border=False, align=False):\n",
    "    style = xlwt.XFStyle()\n",
    "    font = xlwt.Font()\n",
    "    font.name = name\n",
    "    font.height = height\n",
    "    font.bold = bold\n",
    "    style.font = font\n",
    "    if border:\n",
    "        borders = xlwt.Borders()\n",
    "        borders.top = xlwt.Borders.THIN\n",
    "        borders.bottom = xlwt.Borders.THIN\n",
    "        borders.left = xlwt.Borders.THIN\n",
    "        borders.right = xlwt.Borders.THIN\n",
    "        style.borders = borders\n",
    "    if align:\n",
    "        alignment = xlwt.Alignment()\n",
    "        alignment.horz = xlwt.Alignment.HORZ_CENTER\n",
    "        style.alignment = alignment\n",
    "    return style"
   ]
  },
  {
   "cell_type": "code",
   "execution_count": 6,
   "id": "4fbe963d",
   "metadata": {
    "ExecuteTime": {
     "end_time": "2021-05-27T14:47:43.422695Z",
     "start_time": "2021-05-27T14:47:43.408627Z"
    }
   },
   "outputs": [],
   "source": [
    "#定义格式\n",
    "def change_excel():  #修改表格格式的主函数\n",
    "    today = time.strftime(\"%Y-%m-%d\")\n",
    "    filename = today + \".xls\"\n",
    "    old_excel = xlrd.open_workbook(filename, formatting_info=True)\n",
    "    old_sheet = old_excel.sheet_by_index(0)\n",
    "    new_excel = copy(old_excel)\n",
    "    new_sheet = new_excel.get_sheet(0)\n",
    "    new_sheet.write_merge(0, 0, 0, 9, today + '龙虎榜',\n",
    "                          set_style('宋体', 320, bold=True, align=True))\n",
    "    #设置标题\n",
    "    max_width = []\n",
    "    for j in range(old_sheet.ncols):\n",
    "        max_width.append(0)\n",
    "        for i in range(old_sheet.nrows):\n",
    "            if (len(str(old_sheet.cell_value(i, j))) * 580) > max_width[j]:\n",
    "                max_width[j] = len(str(old_sheet.cell_value(i, j)) * 580)\n",
    "            #得到每一列最大列宽\n",
    "    for j in range(old_sheet.ncols):  #设置表头\n",
    "        new_sheet.write(\n",
    "            1, j, old_sheet.cell_value(0, j),\n",
    "            set_style('宋体', 220, bold=True, border=True, align=True))\n",
    "\n",
    "    for i in range(1, old_sheet.nrows):\n",
    "        for j in [0, 5, 6]:\n",
    "            new_sheet.write(i + 1, j, old_sheet.cell_value(i, j),\n",
    "                            set_style('宋体', 200))\n",
    "        for j in [1, 2, 3, 4, 7, 8, 9]:\n",
    "            new_sheet.write(i + 1, j, old_sheet.cell_value(i, j),\n",
    "                            set_style('宋体', 200, align=True))\n",
    "\n",
    "    for j in range(len(max_width)):\n",
    "        new_sheet.col(j).width = max_width[j]\n",
    "    new_sheet.col(9).width = 2200\n",
    "    new_excel.save(filename)"
   ]
  },
  {
   "cell_type": "code",
   "execution_count": null,
   "id": "ba5d9387",
   "metadata": {},
   "outputs": [],
   "source": []
  }
 ],
 "metadata": {
  "kernelspec": {
   "display_name": "Python 3",
   "language": "python",
   "name": "python3"
  },
  "language_info": {
   "codemirror_mode": {
    "name": "ipython",
    "version": 3
   },
   "file_extension": ".py",
   "mimetype": "text/x-python",
   "name": "python",
   "nbconvert_exporter": "python",
   "pygments_lexer": "ipython3",
   "version": "3.8.10"
  },
  "latex_envs": {
   "LaTeX_envs_menu_present": true,
   "autoclose": false,
   "autocomplete": true,
   "bibliofile": "biblio.bib",
   "cite_by": "apalike",
   "current_citInitial": 1,
   "eqLabelWithNumbers": true,
   "eqNumInitial": 1,
   "hotkeys": {
    "equation": "Ctrl-E",
    "itemize": "Ctrl-I"
   },
   "labels_anchors": false,
   "latex_user_defs": false,
   "report_style_numbering": false,
   "user_envs_cfg": false
  },
  "toc": {
   "base_numbering": 1,
   "nav_menu": {},
   "number_sections": true,
   "sideBar": true,
   "skip_h1_title": false,
   "title_cell": "Table of Contents",
   "title_sidebar": "Contents",
   "toc_cell": false,
   "toc_position": {},
   "toc_section_display": true,
   "toc_window_display": false
  },
  "varInspector": {
   "cols": {
    "lenName": 16,
    "lenType": 16,
    "lenVar": 40
   },
   "kernels_config": {
    "python": {
     "delete_cmd_postfix": "",
     "delete_cmd_prefix": "del ",
     "library": "var_list.py",
     "varRefreshCmd": "print(var_dic_list())"
    },
    "r": {
     "delete_cmd_postfix": ") ",
     "delete_cmd_prefix": "rm(",
     "library": "var_list.r",
     "varRefreshCmd": "cat(var_dic_list()) "
    }
   },
   "types_to_exclude": [
    "module",
    "function",
    "builtin_function_or_method",
    "instance",
    "_Feature"
   ],
   "window_display": false
  }
 },
 "nbformat": 4,
 "nbformat_minor": 5
}
